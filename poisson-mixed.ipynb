{
 "metadata": {
  "name": ""
 },
 "nbformat": 3,
 "nbformat_minor": 0,
 "worksheets": [
  {
   "cells": [
    {
     "cell_type": "markdown",
     "metadata": {
      "slideshow": {
       "slide_type": "slide"
      }
     },
     "source": [
      "# Mixed Poisson's equation\n",
      "\n",
      "Simple code solving Poisson's equation in mixed form with FEniCS by Vincent Quenneville-B\u00e9lair. See FEniCS demos for more information.\n",
      "\n",
      "## First Step: Identify PDE along with IC and BC.\n",
      "\n",
      "Find $(\\sigma, u)$ such that $- \\nabla\\cdot \\sigma = f$ and $\\sigma = \\nabla u$ in square $\\Omega$, with $u = 0$ on $\\partial \\Omega$.\n",
      "\n",
      "## Second Step: Reformulate PDE in variational form.\n",
      "\n",
      "Find $(\\sigma, u) \\in V = H(\\text{div},\\Omega) \\times L^2(\\Omega)$ such that\n",
      "\n",
      "$$\\int_{\\Omega} \\nabla\\cdot \\sigma \\, v \\,dx \n",
      "= - \\int_{\\Omega} fv \\,dx\n",
      ",$$\n",
      "\n",
      "$$\\int_{\\Omega} \\sigma \\cdot \\tau \\,dx + \\int_{\\Omega} u \\nabla\\cdot \\tau \\,dx - \\int_{\\partial\\Omega} u\\, \\tau\\cdot n \\,ds = 0,$$\n",
      "\n",
      "for any $(\\tau, v) \\in V$. The boundary condition is natural."
     ]
    },
    {
     "cell_type": "markdown",
     "metadata": {
      "slideshow": {
       "slide_type": "slide"
      }
     },
     "source": [
      "## Third Step: Make code for mesh, input data, and variational form."
     ]
    },
    {
     "cell_type": "code",
     "collapsed": false,
     "input": [
      "from fenics import *\n",
      "set_log_level(ERROR)"
     ],
     "language": "python",
     "metadata": {
      "slideshow": {
       "slide_type": "fragment"
      }
     },
     "outputs": []
    },
    {
     "cell_type": "code",
     "collapsed": false,
     "input": [
      "# Create 1D mesh\n",
      "mesh = UnitIntervalMesh(15)\n",
      "# mesh = UnitSquareMesh(10,10)\n",
      "\n",
      "# Set boundary conditions and source term\n",
      "u0 = Expression(\"x[0] - x[0]*x[0]\")\n",
      "f = Constant(2.0)\n",
      "\n",
      "# u0 = Expression(\"1 + x[0]*x[0] + 2*x[1]*x[1]\")\n",
      "# f = Constant(-6.0)"
     ],
     "language": "python",
     "metadata": {
      "slideshow": {
       "slide_type": "fragment"
      }
     },
     "outputs": []
    },
    {
     "cell_type": "markdown",
     "metadata": {
      "slideshow": {
       "slide_type": "subslide"
      }
     },
     "source": [
      "Find $(\\sigma, u) \\in V_h$ such that\n",
      "\n",
      "$$\\int_{\\Omega} \\nabla\\cdot \\sigma \\, v \\,dx \n",
      "= - \\int_{\\Omega} fv \\,dx\n",
      ",$$\n",
      "\n",
      "$$\\int_{\\Omega} \\sigma \\cdot \\tau \\,dx + \\int_{\\Omega} u \\nabla\\cdot \\tau \\,dx = 0,$$\n",
      "\n",
      "for any $(\\tau, v) \\in V_h$."
     ]
    },
    {
     "cell_type": "code",
     "collapsed": false,
     "input": [
      "# Define function space\n",
      "\n",
      "# V1 = FunctionSpace(mesh, \"CG\", 1)\n",
      "# V2 = FunctionSpace(mesh, \"CG\", 1)\n",
      "\n",
      "V1 = FunctionSpace(mesh, \"CG\", 2)\n",
      "V2 = FunctionSpace(mesh, \"DG\", 1)\n",
      "\n",
      "# V1 = FunctionSpace(mesh, \"RT\", 1)\n",
      "# V2 = FunctionSpace(mesh, \"DG\", 0)\n",
      "\n",
      "V = V1*V2\n",
      "\n",
      "# Define variational problem\n",
      "(sigma,u) = TrialFunctions(V)\n",
      "(tau,v) = TestFunctions(V)\n",
      "# a = ( div(sigma) * v + inner(sigma, tau) + u * div(tau) ) * dx # n-D\n",
      "a = ( sigma.dx(0) * v + inner(sigma, tau) + u * tau.dx(0) ) * dx # 1-D\n",
      "L = -f*v*dx"
     ],
     "language": "python",
     "metadata": {
      "slideshow": {
       "slide_type": "fragment"
      }
     },
     "outputs": []
    },
    {
     "cell_type": "markdown",
     "metadata": {
      "slideshow": {
       "slide_type": "subslide"
      }
     },
     "source": [
      "## Fourth Step: Add statements to solve system, and visualize. "
     ]
    },
    {
     "cell_type": "code",
     "collapsed": false,
     "input": [
      "set_log_level(ERROR)\n",
      "\n",
      "# Compute solution\n",
      "u = Function(V)\n",
      "solve(a == L, u)\n",
      "# solve(a == L, u, bc)\n",
      "(sigma, u) = u.split()\n",
      "\n",
      "# Plot solution and mesh\n",
      "plot(mesh)\n",
      "plot(u)\n",
      "plot(sigma)\n",
      "\n",
      "# Hold plot\n",
      "interactive()"
     ],
     "language": "python",
     "metadata": {
      "slideshow": {
       "slide_type": "fragment"
      }
     },
     "outputs": []
    },
    {
     "cell_type": "code",
     "collapsed": false,
     "input": [
      "# Dump solution to file in VTK format\n",
      "# file = File(\"poisson.pvd\")\n",
      "# file << u"
     ],
     "language": "python",
     "metadata": {
      "slideshow": {
       "slide_type": "skip"
      }
     },
     "outputs": []
    },
    {
     "cell_type": "code",
     "collapsed": false,
     "input": [
      "# Compute error: u0 is exact solution\n",
      "# set_log_level(ERROR)\n",
      "err = errornorm(u0, u, degree_rise=0)\n",
      "print \"Mean Square Average Error: {}\".format(err)"
     ],
     "language": "python",
     "metadata": {
      "slideshow": {
       "slide_type": "fragment"
      }
     },
     "outputs": []
    },
    {
     "cell_type": "markdown",
     "metadata": {
      "slideshow": {
       "slide_type": "skip"
      }
     },
     "source": [
      "## Mixed Boundary Conditions\n",
      "\n",
      "$$u = u_0 = 0 \\text{ on } \\partial\\Omega_D,$$\n",
      "$$\\sigma\\cdot n = g \\text{ on } \\partial\\Omega_N.$$\n",
      "\n",
      "Code below from FEniCS demo for mixed formulation of Poisson equation, see the demo for more information!"
     ]
    },
    {
     "cell_type": "code",
     "collapsed": false,
     "input": [
      "# Define source function\n",
      "f = Expression(\"10*exp(-(pow(x[0] - 0.5, 2) + pow(x[1] - 0.5, 2)) / 0.02)\")\n",
      "L = -f*v*dx\n",
      "\n",
      "# Define function G such that G \\cdot n = g\n",
      "class BoundarySource(Expression):\n",
      "    def __init__(self, mesh):\n",
      "        self.mesh = mesh\n",
      "    def eval_cell(self, values, x, ufc_cell):\n",
      "        cell = Cell(self.mesh, ufc_cell.index)\n",
      "        n = cell.normal(ufc_cell.local_facet)\n",
      "        g = sin(5*x[0])\n",
      "        values[0] = g*n[0]\n",
      "        values[1] = g*n[1]\n",
      "    def value_shape(self): \n",
      "        return (2,)\n",
      "\n",
      "G = BoundarySource(mesh)\n",
      "\n",
      "# Define essential boundary\n",
      "def boundary(x):\n",
      "    return x[1] < DOLFIN_EPS or x[1] > 1.0 - DOLFIN_EPS\n",
      "\n",
      "bc = DirichletBC(V.sub(0), G, boundary)"
     ],
     "language": "python",
     "metadata": {
      "slideshow": {
       "slide_type": "skip"
      }
     },
     "outputs": []
    }
   ],
   "metadata": {}
  }
 ]
}