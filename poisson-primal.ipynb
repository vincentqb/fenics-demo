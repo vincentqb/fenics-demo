{
 "metadata": {
  "name": ""
 },
 "nbformat": 3,
 "nbformat_minor": 0,
 "worksheets": [
  {
   "cells": [
    {
     "cell_type": "markdown",
     "metadata": {
      "slideshow": {
       "slide_type": "slide"
      }
     },
     "source": [
      "# Poisson's equation\n",
      "Simple code solving Poisson's equation in primal form with FEniCS by Vincent Quenneville-B\u00e9lair. See FEniCS demos for more information.\n",
      "\n",
      "## First Step: Identify PDE along with IC and BC.\n",
      "\n",
      "Find $u$ such that $-\\Delta u = \\nabla\\cdot\\nabla u = f$ in square $\\Omega$ with $u = 0$ on $\\partial\\Omega$.\n",
      "\n",
      "## Second Step: Reformulate PDE in variational form.\n",
      "\n",
      "Find $u\\in V = \\mathring{H}^1(\\Omega)$ such that\n",
      "\n",
      "$$\\int_{\\Omega} \\nabla u \\cdot \\nabla v \\,dx - \\int_{\\partial\\Omega} \\frac{\\partial u}{\\partial n} v \\,ds = \\int_{\\Omega} fv \\,dx$$\n",
      "\n",
      "for any $v \\in V$. The boundary condition is essential."
     ]
    },
    {
     "cell_type": "markdown",
     "metadata": {
      "slideshow": {
       "slide_type": "slide"
      }
     },
     "source": [
      "## Third Step: Make code for mesh, input data, and variational form."
     ]
    },
    {
     "cell_type": "code",
     "collapsed": false,
     "input": [
      "from fenics import *"
     ],
     "language": "python",
     "metadata": {
      "slideshow": {
       "slide_type": "fragment"
      }
     },
     "outputs": []
    },
    {
     "cell_type": "code",
     "collapsed": false,
     "input": [
      "# Create 1D mesh\n",
      "mesh = UnitIntervalMesh(30)\n",
      "\n",
      "# Prescribe boundary data and source\n",
      "u0 = Expression(\"x[0] - x[0]*x[0]\")\n",
      "f = Constant(2.0)"
     ],
     "language": "python",
     "metadata": {
      "slideshow": {
       "slide_type": "fragment"
      }
     },
     "outputs": []
    },
    {
     "cell_type": "code",
     "collapsed": false,
     "input": [
      "# Prescribe boundary data and source\n",
      "# u0 = Expression(\"sin(pi*x[0])\")\n",
      "# f = Expression(\"pi*pi*sin(pi*x[0])\")"
     ],
     "language": "python",
     "metadata": {
      "slideshow": {
       "slide_type": "skip"
      }
     },
     "outputs": []
    },
    {
     "cell_type": "code",
     "collapsed": false,
     "input": [
      "# Create 2D mesh\n",
      "# mesh = UnitSquareMesh(6, 4)\n",
      "\n",
      "# Prescribe boundary data and source\n",
      "# u0 = Expression(\"1 + x[0]*x[0] + 2*x[1]*x[1]\")\n",
      "# f = Constant(-6.0)"
     ],
     "language": "python",
     "metadata": {
      "slideshow": {
       "slide_type": "skip"
      }
     },
     "outputs": []
    },
    {
     "cell_type": "markdown",
     "metadata": {
      "slideshow": {
       "slide_type": "subslide"
      }
     },
     "source": [
      "Find $u\\in V_h$ such that \n",
      "\n",
      "$$\\int_{\\Omega} \\nabla u \\cdot \\nabla v \\,dx = \\int_{\\Omega} fv \\,dx$$\n",
      "\n",
      "for any $v \\in V_h$, with imposed boundary condition."
     ]
    },
    {
     "cell_type": "code",
     "collapsed": false,
     "input": [
      "# Define function space\n",
      "V = FunctionSpace(mesh, \"Lagrange\", 2)\n",
      "\n",
      "# Set essential boundary conditions\n",
      "def boundary(x, on_boundary):\n",
      "    return on_boundary\n",
      "bc = DirichletBC(V, u0, boundary)\n",
      "\n",
      "# Define variational problem\n",
      "u = TrialFunction(V)\n",
      "v = TestFunction(V)\n",
      "a = inner(nabla_grad(u), nabla_grad(v))*dx\n",
      "L = f*v*dx"
     ],
     "language": "python",
     "metadata": {
      "slideshow": {
       "slide_type": "fragment"
      }
     },
     "outputs": []
    },
    {
     "cell_type": "markdown",
     "metadata": {
      "slideshow": {
       "slide_type": "subslide"
      }
     },
     "source": [
      "## Fourth Step: Add statements to solve system, and visualize. "
     ]
    },
    {
     "cell_type": "code",
     "collapsed": false,
     "input": [
      "# Compute solution\n",
      "u = Function(V)\n",
      "solve(a == L, u, bc)"
     ],
     "language": "python",
     "metadata": {
      "slideshow": {
       "slide_type": "fragment"
      }
     },
     "outputs": []
    },
    {
     "cell_type": "code",
     "collapsed": false,
     "input": [
      "# Plot\n",
      "plot(mesh)\n",
      "plot(u)\n",
      "\n",
      "# Plot gradient\n",
      "plot(nabla_grad(u))\n",
      "interactive()\n",
      "\n",
      "# Dump solution to file in VTK format\n",
      "# file = File(\"poisson.pvd\")\n",
      "# file << u\n",
      "\n",
      "# Compute error: u0 is exact solution\n",
      "err = errornorm(u0, u, degree_rise=0)\n",
      "print \"Mean Square Average Error: {}\".format(err)"
     ],
     "language": "python",
     "metadata": {
      "slideshow": {
       "slide_type": "fragment"
      }
     },
     "outputs": []
    },
    {
     "cell_type": "code",
     "collapsed": false,
     "input": [
      "# List solvers and preconditioners\n",
      "list_linear_solver_methods()\n",
      "list_krylov_solver_preconditioners()\n",
      "\n",
      "# List parameters for solver with default value\n",
      "info(parameters, True)\n",
      "\n",
      "# Assign some parameters\n",
      "prm = parameters[\"krylov_solver\"]\n",
      "prm[\"absolute_tolerance\"] = 1E-10\n",
      "prm[\"relative_tolerance\"] = 1E-6\n",
      "prm[\"maximum_iterations\"] = 1000\n",
      "\n",
      "# Compute solution with alternate solver\n",
      "u = Function(V)\n",
      "set_log_level(PROGRESS)\n",
      "solve(a == L, u, bc,\n",
      "    solver_parameters={\"linear_solver\": \"default\",\n",
      "    \"preconditioner\": \"default\"})"
     ],
     "language": "python",
     "metadata": {
      "slideshow": {
       "slide_type": "subslide"
      }
     },
     "outputs": []
    }
   ],
   "metadata": {}
  }
 ]
}